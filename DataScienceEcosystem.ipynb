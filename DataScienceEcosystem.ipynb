{
 "cells": [
  {
   "cell_type": "markdown",
   "id": "cf97bb19-0b0f-4578-981d-f911fdb46d78",
   "metadata": {},
   "source": [
    "# Data Science Tools and Ecosystem"
   ]
  },
  {
   "cell_type": "markdown",
   "id": "ebb70f61-e8d9-422a-9a50-dcfba08fb9ce",
   "metadata": {},
   "source": [
    "In this notebook, Data Science Tools, and Ecosystems are summarized."
   ]
  },
  {
   "cell_type": "markdown",
   "id": "fcd2637e-5455-491d-86dc-a05ab8ce9e2e",
   "metadata": {},
   "source": [
    "**Objectives:**\n",
    "- Popular languages Data Scientists use\n",
    "- Commonly used Libraries used by Data Scientist\n",
    "- Data Science tools\n",
    "- Evaluating arithmetic expressions"
   ]
  },
  {
   "cell_type": "markdown",
   "id": "61ba2af7-a51d-41c9-bf65-e59947e9c077",
   "metadata": {},
   "source": [
    "Some of the Popular Languages Data Scientists use are:\n",
    "1. Python\n",
    "2. R\n",
    "3. SQL\n",
    "4. Scala\n",
    "5. Java\n",
    "6. C++\n",
    "7. Julia"
   ]
  },
  {
   "cell_type": "markdown",
   "id": "67a8d2e4-1beb-4ed0-98dc-58e37d26a9bd",
   "metadata": {},
   "source": [
    "Some of the commonly used Libraries used by Data Scientist include:\n",
    "1. Vegas\n",
    "2. ggplot2\n",
    "3. Vegas\n",
    "4. NumPy\n",
    "5. MatPlotLib"
   ]
  },
  {
   "cell_type": "markdown",
   "id": "c91f656c-de31-40c8-bf43-31d346ca410a",
   "metadata": {},
   "source": [
    "|Data Science Tools|\n",
    "|------------------|\n",
    "|Jupyter Notebooks|\n",
    "|Anaconda|\n",
    "|RStudio|"
   ]
  },
  {
   "cell_type": "markdown",
   "id": "57a7b3a2-3ca9-464f-bfbe-98576a946b59",
   "metadata": {},
   "source": [
    "### Below are a few examples of evaluating arithmetic expressions in python.\n"
   ]
  },
  {
   "cell_type": "code",
   "execution_count": 17,
   "id": "962d204d-0bb7-467a-a873-b28c0ceb6520",
   "metadata": {},
   "outputs": [
    {
     "data": {
      "text/plain": [
       "17"
      ]
     },
     "execution_count": 17,
     "metadata": {},
     "output_type": "execute_result"
    }
   ],
   "source": [
    "# This is a simple expression to multiply then add integers\n",
    "\n",
    "(3*4)+5\n"
   ]
  },
  {
   "cell_type": "code",
   "execution_count": 26,
   "id": "14f08ea7-75d7-4904-ae9b-b6a8a70d22c5",
   "metadata": {},
   "outputs": [
    {
     "data": {
      "text/plain": [
       "'200 minutes = 3.3333333333333335 hours'"
      ]
     },
     "execution_count": 26,
     "metadata": {},
     "output_type": "execute_result"
    }
   ],
   "source": [
    "# This will convert 200 minutes to hours by dividing by 60\n",
    "\n",
    "f'200 minutes = {200/60} hours'"
   ]
  },
  {
   "cell_type": "markdown",
   "id": "5296fcbf-fa35-45cd-b070-a592ac681521",
   "metadata": {},
   "source": [
    "## Author\n",
    "Oghogho Omorose"
   ]
  },
  {
   "cell_type": "code",
   "execution_count": null,
   "id": "a0f0b644-7db8-4f43-bb9f-c5520843a85a",
   "metadata": {},
   "outputs": [],
   "source": []
  }
 ],
 "metadata": {
  "kernelspec": {
   "display_name": "Python 3 (ipykernel)",
   "language": "python",
   "name": "python3"
  },
  "language_info": {
   "codemirror_mode": {
    "name": "ipython",
    "version": 3
   },
   "file_extension": ".py",
   "mimetype": "text/x-python",
   "name": "python",
   "nbconvert_exporter": "python",
   "pygments_lexer": "ipython3",
   "version": "3.11.7"
  }
 },
 "nbformat": 4,
 "nbformat_minor": 5
}
